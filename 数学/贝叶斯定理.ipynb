{
 "cells": [
  {
   "attachments": {},
   "cell_type": "markdown",
   "metadata": {},
   "source": [
    "#贝叶斯定理\n",
    "联合概率可交换，即 P(A and B)=P(B and A)\n",
    "\n",
    "对于任意事件A、B都独立，因此联合概率P(A and B)=P(B)P(A|B)\n",
    "\n",
    "两步骤执行交换，即P(B and A)=P(A)P(B|A)\n",
    "\n",
    "因为步骤1等式，有如下等式成立P(B)P(A|B)=P(A)P(B|A)\n",
    "\n",
    "最后等式两端除以P(B）,得到P(A|B)=P(A)P(B|A)/P(B)"
   ]
  },
  {
   "attachments": {},
   "cell_type": "markdown",
   "metadata": {},
   "source": [
    "P(碗A|香草饼)= P(碗A)*P(香草饼|碗A)/P(香草饼)\n",
    "\n",
    "P(碗A)=1/2 \n",
    "\n",
    "P(香草饼|碗A)=3/4 \n",
    "\n",
    "P(香草饼)=50/(50+30)=5/8 \n",
    "\n",
    "所以最后经过计算\n",
    "\n",
    "P(碗A|香草饼)=3/5=0.6"
   ]
  },
  {
   "attachments": {},
   "cell_type": "markdown",
   "metadata": {},
   "source": [
    "首先定义Bayes类，初始化创建一个dict类型的容器container。该容器是为了储存贝叶斯各项信息。key键存储假设，value值存储概率\n",
    "\n",
    "Set方法是给容器添加先验假设及先验概率\n",
    "\n",
    "Mult方法：根据key查找到先验概率，并更新概率。\n",
    "\n",
    "Normalize方法：归一化（建议大家等会运行代码时候看下有无Normalize的区别，就能理解归一化这一含义）\n",
    "\n",
    "Prob方法：返回某一事件的概率"
   ]
  },
  {
   "cell_type": "code",
   "execution_count": 5,
   "metadata": {},
   "outputs": [
    {
     "name": "stdout",
     "output_type": "stream",
     "text": [
      "从碗A渠道香草曲奇饼的概率:0.6\n"
     ]
    }
   ],
   "source": [
    "class Bayes(object):\n",
    "    \n",
    "    def __init__(self):\n",
    "\n",
    "        self._container = dict()\n",
    "\n",
    "\n",
    "    def Set(self,hypothis,prob):\n",
    "\n",
    "        self._container[hypothis]=prob\n",
    "\n",
    "\n",
    "    def Mult(self,hypothis,prob):\n",
    "\n",
    "        old_prob = self._container[hypothis]\n",
    "\n",
    "        self._container[hypothis] = old_prob*prob\n",
    "\n",
    "\n",
    "    def Normalize(self):\n",
    "\n",
    "        count = 0\n",
    "\n",
    "        for hypothis in self._container.values():\n",
    "\n",
    "            count=count+hypothis\n",
    "\n",
    "        for hypothis,prob in self._container.items():\n",
    "\n",
    "            self._container[hypothis]=self._container[hypothis]/count\n",
    "\n",
    "\n",
    "    def Prob(self,hypothis):\n",
    "\n",
    "        Prob = self._container[hypothis]\n",
    "\n",
    "        return Prob\n",
    "\n",
    "#实例化Bayes类\n",
    "\n",
    "bayes = Bayes()\n",
    "\n",
    "\n",
    "#先验概率\n",
    "\n",
    "bayes.Set('Bow_A',0.5)  #P(碗A)=1/2\n",
    "\n",
    "bayes.Set('Bow_B',0.5)  #P(碗B)=1/2\n",
    "\n",
    "\n",
    "#后验概率\n",
    "\n",
    "bayes.Mult('Bow_A',0.75)  #P(香草饼|碗A)=3/4\n",
    "\n",
    "bayes.Mult('Bow_B',0.5)   #P(香草饼|碗B)=1/2\n",
    "\n",
    "\n",
    "bayes.Normalize()\n",
    "\n",
    "prob = bayes.Prob('Bow_A')#P(碗A|香草饼)\n",
    "\n",
    "print('从碗A渠道香草曲奇饼的概率:{}'.format(prob))"
   ]
  },
  {
   "cell_type": "markdown",
   "metadata": {},
   "source": []
  },
  {
   "cell_type": "markdown",
   "metadata": {},
   "source": []
  }
 ],
 "metadata": {
  "kernelspec": {
   "display_name": "Python 3",
   "language": "python",
   "name": "python3"
  },
  "language_info": {
   "codemirror_mode": {
    "name": "ipython",
    "version": 3
   },
   "file_extension": ".py",
   "mimetype": "text/x-python",
   "name": "python",
   "nbconvert_exporter": "python",
   "pygments_lexer": "ipython3",
   "version": "3.11.0"
  },
  "orig_nbformat": 4,
  "vscode": {
   "interpreter": {
    "hash": "c261aea317cc0286b3b3261fbba9abdec21eaa57589985bb7a274bf54d6cc0a7"
   }
  }
 },
 "nbformat": 4,
 "nbformat_minor": 2
}
