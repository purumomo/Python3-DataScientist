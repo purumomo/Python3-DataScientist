{
 "cells": [
  {
   "cell_type": "code",
   "execution_count": 3,
   "metadata": {},
   "outputs": [
    {
     "name": "stdout",
     "output_type": "stream",
     "text": [
      "与正确答案相称\n",
      "10.231987952842859\n",
      "与正确答案相差\n",
      "1.3703572638850776\n"
     ]
    }
   ],
   "source": [
    "#计算交叉熵\n",
    "\n",
    "import numpy as np\n",
    "delta = 1e-7 #最小值\n",
    "def cross_entropy(p,t):\n",
    "    return -np.sum(t*np.log(p+delta) + (1-t)*np.log(1-p+delta)) #交叉熵\n",
    "\n",
    "#与正确答案相悖\n",
    "p_1 = np.array([0.2,0.8,0.1,0.3,0.9,0.7])\n",
    "p_2 = np.array([0.7,0.3,0.9,0.8,0.1,0.2])\n",
    "#与正确答案相近\n",
    "t = np.array([1,0,1,1,0,0]) #正确答案\n",
    "\n",
    "print(\"与正确答案相称\")\n",
    "print(cross_entropy(p_1,t))\n",
    "print(\"与正确答案相差\")\n",
    "print(cross_entropy(p_2,t))"
   ]
  }
 ],
 "metadata": {
  "kernelspec": {
   "display_name": "Python 3",
   "language": "python",
   "name": "python3"
  },
  "language_info": {
   "codemirror_mode": {
    "name": "ipython",
    "version": 3
   },
   "file_extension": ".py",
   "mimetype": "text/x-python",
   "name": "python",
   "nbconvert_exporter": "python",
   "pygments_lexer": "ipython3",
   "version": "3.11.0"
  },
  "orig_nbformat": 4,
  "vscode": {
   "interpreter": {
    "hash": "c261aea317cc0286b3b3261fbba9abdec21eaa57589985bb7a274bf54d6cc0a7"
   }
  }
 },
 "nbformat": 4,
 "nbformat_minor": 2
}
