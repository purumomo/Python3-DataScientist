{
 "cells": [
  {
   "cell_type": "code",
   "execution_count": 1,
   "metadata": {},
   "outputs": [],
   "source": [
    "import numpy as np\n",
    "import pandas as pad\n",
    "from pandas import Series,DataFrame"
   ]
  },
  {
   "cell_type": "code",
   "execution_count": 3,
   "metadata": {},
   "outputs": [
    {
     "data": {
      "text/plain": [
       "0    0.006919\n",
       "1    0.636380\n",
       "2    0.913321\n",
       "3    0.952798\n",
       "4    0.438096\n",
       "5    0.036268\n",
       "6    0.540708\n",
       "7    0.593255\n",
       "8    0.284890\n",
       "9    0.068938\n",
       "dtype: float64"
      ]
     },
     "execution_count": 3,
     "metadata": {},
     "output_type": "execute_result"
    }
   ],
   "source": [
    "s = Series(np.random.rand(10))\n",
    "s"
   ]
  },
  {
   "cell_type": "code",
   "execution_count": 7,
   "metadata": {},
   "outputs": [
    {
     "data": {
      "text/plain": [
       "0    0.006919\n",
       "5    0.036268\n",
       "9    0.068938\n",
       "8    0.284890\n",
       "4    0.438096\n",
       "6    0.540708\n",
       "7    0.593255\n",
       "1    0.636380\n",
       "2    0.913321\n",
       "3    0.952798\n",
       "dtype: float64"
      ]
     },
     "execution_count": 7,
     "metadata": {},
     "output_type": "execute_result"
    }
   ],
   "source": [
    "s.sort_values() #默认从小到大\n"
   ]
  },
  {
   "cell_type": "code",
   "execution_count": 9,
   "metadata": {},
   "outputs": [
    {
     "data": {
      "text/plain": [
       "3    0.952798\n",
       "2    0.913321\n",
       "1    0.636380\n",
       "7    0.593255\n",
       "6    0.540708\n",
       "4    0.438096\n",
       "8    0.284890\n",
       "9    0.068938\n",
       "5    0.036268\n",
       "0    0.006919\n",
       "dtype: float64"
      ]
     },
     "execution_count": 9,
     "metadata": {},
     "output_type": "execute_result"
    }
   ],
   "source": [
    "s.sort_values(ascending=False) #逆序"
   ]
  },
  {
   "cell_type": "code",
   "execution_count": 12,
   "metadata": {},
   "outputs": [
    {
     "data": {
      "text/plain": [
       "9    0.068938\n",
       "8    0.284890\n",
       "7    0.593255\n",
       "6    0.540708\n",
       "5    0.036268\n",
       "4    0.438096\n",
       "3    0.952798\n",
       "2    0.913321\n",
       "1    0.636380\n",
       "0    0.006919\n",
       "dtype: float64"
      ]
     },
     "execution_count": 12,
     "metadata": {},
     "output_type": "execute_result"
    }
   ],
   "source": [
    "s.sort_index(ascending=False) #把index拿来降序"
   ]
  },
  {
   "cell_type": "code",
   "execution_count": 14,
   "metadata": {},
   "outputs": [
    {
     "data": {
      "text/plain": [
       "0.9527981545411698"
      ]
     },
     "execution_count": 14,
     "metadata": {},
     "output_type": "execute_result"
    }
   ],
   "source": [
    "s.max()"
   ]
  },
  {
   "cell_type": "code",
   "execution_count": 15,
   "metadata": {},
   "outputs": [
    {
     "data": {
      "text/plain": [
       "0.006919499194733447"
      ]
     },
     "execution_count": 15,
     "metadata": {},
     "output_type": "execute_result"
    }
   ],
   "source": [
    "s.min()"
   ]
  },
  {
   "cell_type": "code",
   "execution_count": 17,
   "metadata": {},
   "outputs": [
    {
     "data": {
      "text/plain": [
       "0.44715745645363325"
      ]
     },
     "execution_count": 17,
     "metadata": {},
     "output_type": "execute_result"
    }
   ],
   "source": [
    "s.mean()"
   ]
  },
  {
   "cell_type": "code",
   "execution_count": 21,
   "metadata": {},
   "outputs": [
    {
     "data": {
      "text/plain": [
       "A    5.0\n",
       "B    NaN\n",
       "C    NaN\n",
       "D    NaN\n",
       "E    NaN\n",
       "dtype: float64"
      ]
     },
     "execution_count": 21,
     "metadata": {},
     "output_type": "execute_result"
    }
   ],
   "source": [
    "s1 = Series([1,2,3],index=['A','B','C'])\n",
    "s2 = Series([4,5,6],index=['A','D','E'])\n",
    "s1 + s2 #加了相对应的index的值 没有对应Index只能输出NaN"
   ]
  },
  {
   "cell_type": "code",
   "execution_count": 23,
   "metadata": {},
   "outputs": [
    {
     "data": {
      "text/html": [
       "<div>\n",
       "<style scoped>\n",
       "    .dataframe tbody tr th:only-of-type {\n",
       "        vertical-align: middle;\n",
       "    }\n",
       "\n",
       "    .dataframe tbody tr th {\n",
       "        vertical-align: top;\n",
       "    }\n",
       "\n",
       "    .dataframe thead th {\n",
       "        text-align: right;\n",
       "    }\n",
       "</style>\n",
       "<table border=\"1\" class=\"dataframe\">\n",
       "  <thead>\n",
       "    <tr style=\"text-align: right;\">\n",
       "      <th></th>\n",
       "      <th>0</th>\n",
       "      <th>1</th>\n",
       "      <th>2</th>\n",
       "      <th>3</th>\n",
       "      <th>4</th>\n",
       "    </tr>\n",
       "  </thead>\n",
       "  <tbody>\n",
       "    <tr>\n",
       "      <th>0</th>\n",
       "      <td>0.422663</td>\n",
       "      <td>0.953791</td>\n",
       "      <td>0.475038</td>\n",
       "      <td>0.120919</td>\n",
       "      <td>0.648244</td>\n",
       "    </tr>\n",
       "    <tr>\n",
       "      <th>1</th>\n",
       "      <td>0.986052</td>\n",
       "      <td>0.869269</td>\n",
       "      <td>0.850693</td>\n",
       "      <td>0.856429</td>\n",
       "      <td>0.084674</td>\n",
       "    </tr>\n",
       "    <tr>\n",
       "      <th>2</th>\n",
       "      <td>0.050742</td>\n",
       "      <td>0.962675</td>\n",
       "      <td>0.137938</td>\n",
       "      <td>0.848221</td>\n",
       "      <td>0.057961</td>\n",
       "    </tr>\n",
       "    <tr>\n",
       "      <th>3</th>\n",
       "      <td>0.470447</td>\n",
       "      <td>0.916196</td>\n",
       "      <td>0.275217</td>\n",
       "      <td>0.820868</td>\n",
       "      <td>0.762959</td>\n",
       "    </tr>\n",
       "  </tbody>\n",
       "</table>\n",
       "</div>"
      ],
      "text/plain": [
       "          0         1         2         3         4\n",
       "0  0.422663  0.953791  0.475038  0.120919  0.648244\n",
       "1  0.986052  0.869269  0.850693  0.856429  0.084674\n",
       "2  0.050742  0.962675  0.137938  0.848221  0.057961\n",
       "3  0.470447  0.916196  0.275217  0.820868  0.762959"
      ]
     },
     "execution_count": 23,
     "metadata": {},
     "output_type": "execute_result"
    }
   ],
   "source": [
    "#DataFrame\n",
    "df = DataFrame(np.random.rand(20).reshape(4,5))\n",
    "df"
   ]
  },
  {
   "cell_type": "code",
   "execution_count": 28,
   "metadata": {},
   "outputs": [
    {
     "data": {
      "text/html": [
       "<div>\n",
       "<style scoped>\n",
       "    .dataframe tbody tr th:only-of-type {\n",
       "        vertical-align: middle;\n",
       "    }\n",
       "\n",
       "    .dataframe tbody tr th {\n",
       "        vertical-align: top;\n",
       "    }\n",
       "\n",
       "    .dataframe thead th {\n",
       "        text-align: right;\n",
       "    }\n",
       "</style>\n",
       "<table border=\"1\" class=\"dataframe\">\n",
       "  <thead>\n",
       "    <tr style=\"text-align: right;\">\n",
       "      <th></th>\n",
       "      <th>0</th>\n",
       "      <th>1</th>\n",
       "      <th>2</th>\n",
       "      <th>3</th>\n",
       "      <th>4</th>\n",
       "    </tr>\n",
       "  </thead>\n",
       "  <tbody>\n",
       "    <tr>\n",
       "      <th>2</th>\n",
       "      <td>0.050742</td>\n",
       "      <td>0.962675</td>\n",
       "      <td>0.137938</td>\n",
       "      <td>0.848221</td>\n",
       "      <td>0.057961</td>\n",
       "    </tr>\n",
       "    <tr>\n",
       "      <th>1</th>\n",
       "      <td>0.986052</td>\n",
       "      <td>0.869269</td>\n",
       "      <td>0.850693</td>\n",
       "      <td>0.856429</td>\n",
       "      <td>0.084674</td>\n",
       "    </tr>\n",
       "    <tr>\n",
       "      <th>0</th>\n",
       "      <td>0.422663</td>\n",
       "      <td>0.953791</td>\n",
       "      <td>0.475038</td>\n",
       "      <td>0.120919</td>\n",
       "      <td>0.648244</td>\n",
       "    </tr>\n",
       "    <tr>\n",
       "      <th>3</th>\n",
       "      <td>0.470447</td>\n",
       "      <td>0.916196</td>\n",
       "      <td>0.275217</td>\n",
       "      <td>0.820868</td>\n",
       "      <td>0.762959</td>\n",
       "    </tr>\n",
       "  </tbody>\n",
       "</table>\n",
       "</div>"
      ],
      "text/plain": [
       "          0         1         2         3         4\n",
       "2  0.050742  0.962675  0.137938  0.848221  0.057961\n",
       "1  0.986052  0.869269  0.850693  0.856429  0.084674\n",
       "0  0.422663  0.953791  0.475038  0.120919  0.648244\n",
       "3  0.470447  0.916196  0.275217  0.820868  0.762959"
      ]
     },
     "execution_count": 28,
     "metadata": {},
     "output_type": "execute_result"
    }
   ],
   "source": [
    "df.sort_values(by=4) #按照了第四列进行排序"
   ]
  },
  {
   "cell_type": "code",
   "execution_count": 30,
   "metadata": {},
   "outputs": [
    {
     "data": {
      "text/html": [
       "<div>\n",
       "<style scoped>\n",
       "    .dataframe tbody tr th:only-of-type {\n",
       "        vertical-align: middle;\n",
       "    }\n",
       "\n",
       "    .dataframe tbody tr th {\n",
       "        vertical-align: top;\n",
       "    }\n",
       "\n",
       "    .dataframe thead th {\n",
       "        text-align: right;\n",
       "    }\n",
       "</style>\n",
       "<table border=\"1\" class=\"dataframe\">\n",
       "  <thead>\n",
       "    <tr style=\"text-align: right;\">\n",
       "      <th></th>\n",
       "      <th>0</th>\n",
       "      <th>1</th>\n",
       "      <th>2</th>\n",
       "      <th>3</th>\n",
       "      <th>4</th>\n",
       "    </tr>\n",
       "  </thead>\n",
       "  <tbody>\n",
       "    <tr>\n",
       "      <th>0</th>\n",
       "      <td>0.422663</td>\n",
       "      <td>0.953791</td>\n",
       "      <td>0.475038</td>\n",
       "      <td>0.120919</td>\n",
       "      <td>0.648244</td>\n",
       "    </tr>\n",
       "    <tr>\n",
       "      <th>1</th>\n",
       "      <td>0.986052</td>\n",
       "      <td>0.869269</td>\n",
       "      <td>0.850693</td>\n",
       "      <td>0.856429</td>\n",
       "      <td>0.084674</td>\n",
       "    </tr>\n",
       "    <tr>\n",
       "      <th>2</th>\n",
       "      <td>0.050742</td>\n",
       "      <td>0.962675</td>\n",
       "      <td>0.137938</td>\n",
       "      <td>0.848221</td>\n",
       "      <td>0.057961</td>\n",
       "    </tr>\n",
       "    <tr>\n",
       "      <th>3</th>\n",
       "      <td>0.470447</td>\n",
       "      <td>0.916196</td>\n",
       "      <td>0.275217</td>\n",
       "      <td>0.820868</td>\n",
       "      <td>0.762959</td>\n",
       "    </tr>\n",
       "  </tbody>\n",
       "</table>\n",
       "</div>"
      ],
      "text/plain": [
       "          0         1         2         3         4\n",
       "0  0.422663  0.953791  0.475038  0.120919  0.648244\n",
       "1  0.986052  0.869269  0.850693  0.856429  0.084674\n",
       "2  0.050742  0.962675  0.137938  0.848221  0.057961\n",
       "3  0.470447  0.916196  0.275217  0.820868  0.762959"
      ]
     },
     "execution_count": 30,
     "metadata": {},
     "output_type": "execute_result"
    }
   ],
   "source": [
    "df.sort_values(axis=1, by=1) #按照第0行开始排序\n",
    "df"
   ]
  },
  {
   "cell_type": "code",
   "execution_count": 31,
   "metadata": {},
   "outputs": [
    {
     "data": {
      "text/html": [
       "<div>\n",
       "<style scoped>\n",
       "    .dataframe tbody tr th:only-of-type {\n",
       "        vertical-align: middle;\n",
       "    }\n",
       "\n",
       "    .dataframe tbody tr th {\n",
       "        vertical-align: top;\n",
       "    }\n",
       "\n",
       "    .dataframe thead th {\n",
       "        text-align: right;\n",
       "    }\n",
       "</style>\n",
       "<table border=\"1\" class=\"dataframe\">\n",
       "  <thead>\n",
       "    <tr style=\"text-align: right;\">\n",
       "      <th></th>\n",
       "      <th>0</th>\n",
       "      <th>1</th>\n",
       "      <th>2</th>\n",
       "      <th>3</th>\n",
       "      <th>4</th>\n",
       "    </tr>\n",
       "  </thead>\n",
       "  <tbody>\n",
       "    <tr>\n",
       "      <th>0</th>\n",
       "      <td>0.422663</td>\n",
       "      <td>0.953791</td>\n",
       "      <td>0.475038</td>\n",
       "      <td>0.120919</td>\n",
       "      <td>0.648244</td>\n",
       "    </tr>\n",
       "    <tr>\n",
       "      <th>1</th>\n",
       "      <td>0.986052</td>\n",
       "      <td>0.869269</td>\n",
       "      <td>0.850693</td>\n",
       "      <td>0.856429</td>\n",
       "      <td>0.084674</td>\n",
       "    </tr>\n",
       "    <tr>\n",
       "      <th>2</th>\n",
       "      <td>0.050742</td>\n",
       "      <td>0.962675</td>\n",
       "      <td>0.137938</td>\n",
       "      <td>0.848221</td>\n",
       "      <td>0.057961</td>\n",
       "    </tr>\n",
       "    <tr>\n",
       "      <th>3</th>\n",
       "      <td>0.470447</td>\n",
       "      <td>0.916196</td>\n",
       "      <td>0.275217</td>\n",
       "      <td>0.820868</td>\n",
       "      <td>0.762959</td>\n",
       "    </tr>\n",
       "  </tbody>\n",
       "</table>\n",
       "</div>"
      ],
      "text/plain": [
       "          0         1         2         3         4\n",
       "0  0.422663  0.953791  0.475038  0.120919  0.648244\n",
       "1  0.986052  0.869269  0.850693  0.856429  0.084674\n",
       "2  0.050742  0.962675  0.137938  0.848221  0.057961\n",
       "3  0.470447  0.916196  0.275217  0.820868  0.762959"
      ]
     },
     "execution_count": 31,
     "metadata": {},
     "output_type": "execute_result"
    }
   ],
   "source": [
    "df.sort_index()"
   ]
  },
  {
   "cell_type": "code",
   "execution_count": 33,
   "metadata": {},
   "outputs": [
    {
     "data": {
      "text/html": [
       "<div>\n",
       "<style scoped>\n",
       "    .dataframe tbody tr th:only-of-type {\n",
       "        vertical-align: middle;\n",
       "    }\n",
       "\n",
       "    .dataframe tbody tr th {\n",
       "        vertical-align: top;\n",
       "    }\n",
       "\n",
       "    .dataframe thead th {\n",
       "        text-align: right;\n",
       "    }\n",
       "</style>\n",
       "<table border=\"1\" class=\"dataframe\">\n",
       "  <thead>\n",
       "    <tr style=\"text-align: right;\">\n",
       "      <th></th>\n",
       "      <th>0</th>\n",
       "      <th>1</th>\n",
       "      <th>2</th>\n",
       "      <th>3</th>\n",
       "      <th>4</th>\n",
       "    </tr>\n",
       "  </thead>\n",
       "  <tbody>\n",
       "    <tr>\n",
       "      <th>3</th>\n",
       "      <td>0.933637</td>\n",
       "      <td>0.453209</td>\n",
       "      <td>0.491745</td>\n",
       "      <td>0.387745</td>\n",
       "      <td>0.213864</td>\n",
       "    </tr>\n",
       "    <tr>\n",
       "      <th>2</th>\n",
       "      <td>0.691642</td>\n",
       "      <td>0.250689</td>\n",
       "      <td>0.424948</td>\n",
       "      <td>0.282994</td>\n",
       "      <td>0.129768</td>\n",
       "    </tr>\n",
       "    <tr>\n",
       "      <th>1</th>\n",
       "      <td>0.754981</td>\n",
       "      <td>0.154190</td>\n",
       "      <td>0.430539</td>\n",
       "      <td>0.997832</td>\n",
       "      <td>0.618348</td>\n",
       "    </tr>\n",
       "    <tr>\n",
       "      <th>4</th>\n",
       "      <td>0.933798</td>\n",
       "      <td>0.325448</td>\n",
       "      <td>0.679978</td>\n",
       "      <td>0.113138</td>\n",
       "      <td>0.323808</td>\n",
       "    </tr>\n",
       "  </tbody>\n",
       "</table>\n",
       "</div>"
      ],
      "text/plain": [
       "          0         1         2         3         4\n",
       "3  0.933637  0.453209  0.491745  0.387745  0.213864\n",
       "2  0.691642  0.250689  0.424948  0.282994  0.129768\n",
       "1  0.754981  0.154190  0.430539  0.997832  0.618348\n",
       "4  0.933798  0.325448  0.679978  0.113138  0.323808"
      ]
     },
     "execution_count": 33,
     "metadata": {},
     "output_type": "execute_result"
    }
   ],
   "source": [
    "df1 = DataFrame(np.random.rand(20).reshape(4,5),index=[3,2,1,4])\n",
    "df1"
   ]
  },
  {
   "cell_type": "code",
   "execution_count": 34,
   "metadata": {},
   "outputs": [
    {
     "data": {
      "text/html": [
       "<div>\n",
       "<style scoped>\n",
       "    .dataframe tbody tr th:only-of-type {\n",
       "        vertical-align: middle;\n",
       "    }\n",
       "\n",
       "    .dataframe tbody tr th {\n",
       "        vertical-align: top;\n",
       "    }\n",
       "\n",
       "    .dataframe thead th {\n",
       "        text-align: right;\n",
       "    }\n",
       "</style>\n",
       "<table border=\"1\" class=\"dataframe\">\n",
       "  <thead>\n",
       "    <tr style=\"text-align: right;\">\n",
       "      <th></th>\n",
       "      <th>0</th>\n",
       "      <th>1</th>\n",
       "      <th>2</th>\n",
       "      <th>3</th>\n",
       "      <th>4</th>\n",
       "    </tr>\n",
       "  </thead>\n",
       "  <tbody>\n",
       "    <tr>\n",
       "      <th>1</th>\n",
       "      <td>0.754981</td>\n",
       "      <td>0.154190</td>\n",
       "      <td>0.430539</td>\n",
       "      <td>0.997832</td>\n",
       "      <td>0.618348</td>\n",
       "    </tr>\n",
       "    <tr>\n",
       "      <th>2</th>\n",
       "      <td>0.691642</td>\n",
       "      <td>0.250689</td>\n",
       "      <td>0.424948</td>\n",
       "      <td>0.282994</td>\n",
       "      <td>0.129768</td>\n",
       "    </tr>\n",
       "    <tr>\n",
       "      <th>3</th>\n",
       "      <td>0.933637</td>\n",
       "      <td>0.453209</td>\n",
       "      <td>0.491745</td>\n",
       "      <td>0.387745</td>\n",
       "      <td>0.213864</td>\n",
       "    </tr>\n",
       "    <tr>\n",
       "      <th>4</th>\n",
       "      <td>0.933798</td>\n",
       "      <td>0.325448</td>\n",
       "      <td>0.679978</td>\n",
       "      <td>0.113138</td>\n",
       "      <td>0.323808</td>\n",
       "    </tr>\n",
       "  </tbody>\n",
       "</table>\n",
       "</div>"
      ],
      "text/plain": [
       "          0         1         2         3         4\n",
       "1  0.754981  0.154190  0.430539  0.997832  0.618348\n",
       "2  0.691642  0.250689  0.424948  0.282994  0.129768\n",
       "3  0.933637  0.453209  0.491745  0.387745  0.213864\n",
       "4  0.933798  0.325448  0.679978  0.113138  0.323808"
      ]
     },
     "execution_count": 34,
     "metadata": {},
     "output_type": "execute_result"
    }
   ],
   "source": [
    "df1.sort_index()"
   ]
  },
  {
   "cell_type": "code",
   "execution_count": 41,
   "metadata": {},
   "outputs": [
    {
     "data": {
      "text/plain": [
       "3    0.933637\n",
       "2    0.691642\n",
       "1    0.997832\n",
       "4    0.933798\n",
       "dtype: float64"
      ]
     },
     "execution_count": 41,
     "metadata": {},
     "output_type": "execute_result"
    }
   ],
   "source": [
    "df1.max(axis = 1)"
   ]
  },
  {
   "cell_type": "code",
   "execution_count": 42,
   "metadata": {},
   "outputs": [
    {
     "data": {
      "text/plain": [
       "0    0.691642\n",
       "1    0.154190\n",
       "2    0.424948\n",
       "3    0.113138\n",
       "4    0.129768\n",
       "dtype: float64"
      ]
     },
     "execution_count": 42,
     "metadata": {},
     "output_type": "execute_result"
    }
   ],
   "source": [
    "df1.min()"
   ]
  },
  {
   "cell_type": "code",
   "execution_count": 43,
   "metadata": {},
   "outputs": [
    {
     "data": {
      "text/plain": [
       "0    0.482476\n",
       "1    0.925483\n",
       "2    0.434722\n",
       "3    0.661609\n",
       "4    0.388459\n",
       "dtype: float64"
      ]
     },
     "execution_count": 43,
     "metadata": {},
     "output_type": "execute_result"
    }
   ],
   "source": [
    "df.mean()"
   ]
  },
  {
   "cell_type": "code",
   "execution_count": 44,
   "metadata": {},
   "outputs": [
    {
     "data": {
      "text/html": [
       "<div>\n",
       "<style scoped>\n",
       "    .dataframe tbody tr th:only-of-type {\n",
       "        vertical-align: middle;\n",
       "    }\n",
       "\n",
       "    .dataframe tbody tr th {\n",
       "        vertical-align: top;\n",
       "    }\n",
       "\n",
       "    .dataframe thead th {\n",
       "        text-align: right;\n",
       "    }\n",
       "</style>\n",
       "<table border=\"1\" class=\"dataframe\">\n",
       "  <thead>\n",
       "    <tr style=\"text-align: right;\">\n",
       "      <th></th>\n",
       "      <th>0</th>\n",
       "      <th>1</th>\n",
       "      <th>2</th>\n",
       "      <th>3</th>\n",
       "      <th>4</th>\n",
       "    </tr>\n",
       "  </thead>\n",
       "  <tbody>\n",
       "    <tr>\n",
       "      <th>count</th>\n",
       "      <td>4.000000</td>\n",
       "      <td>4.000000</td>\n",
       "      <td>4.000000</td>\n",
       "      <td>4.000000</td>\n",
       "      <td>4.000000</td>\n",
       "    </tr>\n",
       "    <tr>\n",
       "      <th>mean</th>\n",
       "      <td>0.482476</td>\n",
       "      <td>0.925483</td>\n",
       "      <td>0.434722</td>\n",
       "      <td>0.661609</td>\n",
       "      <td>0.388459</td>\n",
       "    </tr>\n",
       "    <tr>\n",
       "      <th>std</th>\n",
       "      <td>0.384580</td>\n",
       "      <td>0.042548</td>\n",
       "      <td>0.309935</td>\n",
       "      <td>0.360780</td>\n",
       "      <td>0.369347</td>\n",
       "    </tr>\n",
       "    <tr>\n",
       "      <th>min</th>\n",
       "      <td>0.050742</td>\n",
       "      <td>0.869269</td>\n",
       "      <td>0.137938</td>\n",
       "      <td>0.120919</td>\n",
       "      <td>0.057961</td>\n",
       "    </tr>\n",
       "    <tr>\n",
       "      <th>25%</th>\n",
       "      <td>0.329682</td>\n",
       "      <td>0.904464</td>\n",
       "      <td>0.240898</td>\n",
       "      <td>0.645881</td>\n",
       "      <td>0.077996</td>\n",
       "    </tr>\n",
       "    <tr>\n",
       "      <th>50%</th>\n",
       "      <td>0.446555</td>\n",
       "      <td>0.934993</td>\n",
       "      <td>0.375128</td>\n",
       "      <td>0.834545</td>\n",
       "      <td>0.366459</td>\n",
       "    </tr>\n",
       "    <tr>\n",
       "      <th>75%</th>\n",
       "      <td>0.599348</td>\n",
       "      <td>0.956012</td>\n",
       "      <td>0.568952</td>\n",
       "      <td>0.850273</td>\n",
       "      <td>0.676923</td>\n",
       "    </tr>\n",
       "    <tr>\n",
       "      <th>max</th>\n",
       "      <td>0.986052</td>\n",
       "      <td>0.962675</td>\n",
       "      <td>0.850693</td>\n",
       "      <td>0.856429</td>\n",
       "      <td>0.762959</td>\n",
       "    </tr>\n",
       "  </tbody>\n",
       "</table>\n",
       "</div>"
      ],
      "text/plain": [
       "              0         1         2         3         4\n",
       "count  4.000000  4.000000  4.000000  4.000000  4.000000\n",
       "mean   0.482476  0.925483  0.434722  0.661609  0.388459\n",
       "std    0.384580  0.042548  0.309935  0.360780  0.369347\n",
       "min    0.050742  0.869269  0.137938  0.120919  0.057961\n",
       "25%    0.329682  0.904464  0.240898  0.645881  0.077996\n",
       "50%    0.446555  0.934993  0.375128  0.834545  0.366459\n",
       "75%    0.599348  0.956012  0.568952  0.850273  0.676923\n",
       "max    0.986052  0.962675  0.850693  0.856429  0.762959"
      ]
     },
     "execution_count": 44,
     "metadata": {},
     "output_type": "execute_result"
    }
   ],
   "source": [
    "df.describe()"
   ]
  }
 ],
 "metadata": {
  "kernelspec": {
   "display_name": "Python 3.9.13 ('base')",
   "language": "python",
   "name": "python3"
  },
  "language_info": {
   "codemirror_mode": {
    "name": "ipython",
    "version": 3
   },
   "file_extension": ".py",
   "mimetype": "text/x-python",
   "name": "python",
   "nbconvert_exporter": "python",
   "pygments_lexer": "ipython3",
   "version": "3.9.13"
  },
  "orig_nbformat": 4,
  "vscode": {
   "interpreter": {
    "hash": "4b1ca6a0a412b7e01f0aab835607d709a940e44445be23a7fb8779c6c08ac13b"
   }
  }
 },
 "nbformat": 4,
 "nbformat_minor": 2
}
